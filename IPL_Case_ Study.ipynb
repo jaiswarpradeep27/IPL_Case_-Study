{
 "cells": [
  {
   "cell_type": "code",
   "execution_count": 1,
   "id": "73cd035e",
   "metadata": {},
   "outputs": [],
   "source": [
    "import pandas as pd\n",
    "import numpy as np\n",
    "import matplotlib.pyplot as plt\n",
    "import seaborn as sns"
   ]
  },
  {
   "cell_type": "code",
   "execution_count": 2,
   "id": "c1605ac0",
   "metadata": {},
   "outputs": [
    {
     "data": {
      "text/html": [
       "<div>\n",
       "<style scoped>\n",
       "    .dataframe tbody tr th:only-of-type {\n",
       "        vertical-align: middle;\n",
       "    }\n",
       "\n",
       "    .dataframe tbody tr th {\n",
       "        vertical-align: top;\n",
       "    }\n",
       "\n",
       "    .dataframe thead th {\n",
       "        text-align: right;\n",
       "    }\n",
       "</style>\n",
       "<table border=\"1\" class=\"dataframe\">\n",
       "  <thead>\n",
       "    <tr style=\"text-align: right;\">\n",
       "      <th></th>\n",
       "      <th>match_id</th>\n",
       "      <th>inning</th>\n",
       "      <th>batting_team</th>\n",
       "      <th>bowling_team</th>\n",
       "      <th>over</th>\n",
       "      <th>ball</th>\n",
       "      <th>batsman</th>\n",
       "      <th>non_striker</th>\n",
       "      <th>bowler</th>\n",
       "      <th>is_super_over</th>\n",
       "      <th>...</th>\n",
       "      <th>bye_runs</th>\n",
       "      <th>legbye_runs</th>\n",
       "      <th>noball_runs</th>\n",
       "      <th>penalty_runs</th>\n",
       "      <th>batsman_runs</th>\n",
       "      <th>extra_runs</th>\n",
       "      <th>total_runs</th>\n",
       "      <th>player_dismissed</th>\n",
       "      <th>dismissal_kind</th>\n",
       "      <th>fielder</th>\n",
       "    </tr>\n",
       "  </thead>\n",
       "  <tbody>\n",
       "    <tr>\n",
       "      <th>0</th>\n",
       "      <td>1</td>\n",
       "      <td>1</td>\n",
       "      <td>Sunrisers Hyderabad</td>\n",
       "      <td>Royal Challengers Bangalore</td>\n",
       "      <td>1</td>\n",
       "      <td>1</td>\n",
       "      <td>DA Warner</td>\n",
       "      <td>S Dhawan</td>\n",
       "      <td>TS Mills</td>\n",
       "      <td>0</td>\n",
       "      <td>...</td>\n",
       "      <td>0</td>\n",
       "      <td>0</td>\n",
       "      <td>0</td>\n",
       "      <td>0</td>\n",
       "      <td>0</td>\n",
       "      <td>0</td>\n",
       "      <td>0</td>\n",
       "      <td>NaN</td>\n",
       "      <td>NaN</td>\n",
       "      <td>NaN</td>\n",
       "    </tr>\n",
       "    <tr>\n",
       "      <th>1</th>\n",
       "      <td>1</td>\n",
       "      <td>1</td>\n",
       "      <td>Sunrisers Hyderabad</td>\n",
       "      <td>Royal Challengers Bangalore</td>\n",
       "      <td>1</td>\n",
       "      <td>2</td>\n",
       "      <td>DA Warner</td>\n",
       "      <td>S Dhawan</td>\n",
       "      <td>TS Mills</td>\n",
       "      <td>0</td>\n",
       "      <td>...</td>\n",
       "      <td>0</td>\n",
       "      <td>0</td>\n",
       "      <td>0</td>\n",
       "      <td>0</td>\n",
       "      <td>0</td>\n",
       "      <td>0</td>\n",
       "      <td>0</td>\n",
       "      <td>NaN</td>\n",
       "      <td>NaN</td>\n",
       "      <td>NaN</td>\n",
       "    </tr>\n",
       "    <tr>\n",
       "      <th>2</th>\n",
       "      <td>1</td>\n",
       "      <td>1</td>\n",
       "      <td>Sunrisers Hyderabad</td>\n",
       "      <td>Royal Challengers Bangalore</td>\n",
       "      <td>1</td>\n",
       "      <td>3</td>\n",
       "      <td>DA Warner</td>\n",
       "      <td>S Dhawan</td>\n",
       "      <td>TS Mills</td>\n",
       "      <td>0</td>\n",
       "      <td>...</td>\n",
       "      <td>0</td>\n",
       "      <td>0</td>\n",
       "      <td>0</td>\n",
       "      <td>0</td>\n",
       "      <td>4</td>\n",
       "      <td>0</td>\n",
       "      <td>4</td>\n",
       "      <td>NaN</td>\n",
       "      <td>NaN</td>\n",
       "      <td>NaN</td>\n",
       "    </tr>\n",
       "    <tr>\n",
       "      <th>3</th>\n",
       "      <td>1</td>\n",
       "      <td>1</td>\n",
       "      <td>Sunrisers Hyderabad</td>\n",
       "      <td>Royal Challengers Bangalore</td>\n",
       "      <td>1</td>\n",
       "      <td>4</td>\n",
       "      <td>DA Warner</td>\n",
       "      <td>S Dhawan</td>\n",
       "      <td>TS Mills</td>\n",
       "      <td>0</td>\n",
       "      <td>...</td>\n",
       "      <td>0</td>\n",
       "      <td>0</td>\n",
       "      <td>0</td>\n",
       "      <td>0</td>\n",
       "      <td>0</td>\n",
       "      <td>0</td>\n",
       "      <td>0</td>\n",
       "      <td>NaN</td>\n",
       "      <td>NaN</td>\n",
       "      <td>NaN</td>\n",
       "    </tr>\n",
       "    <tr>\n",
       "      <th>4</th>\n",
       "      <td>1</td>\n",
       "      <td>1</td>\n",
       "      <td>Sunrisers Hyderabad</td>\n",
       "      <td>Royal Challengers Bangalore</td>\n",
       "      <td>1</td>\n",
       "      <td>5</td>\n",
       "      <td>DA Warner</td>\n",
       "      <td>S Dhawan</td>\n",
       "      <td>TS Mills</td>\n",
       "      <td>0</td>\n",
       "      <td>...</td>\n",
       "      <td>0</td>\n",
       "      <td>0</td>\n",
       "      <td>0</td>\n",
       "      <td>0</td>\n",
       "      <td>0</td>\n",
       "      <td>2</td>\n",
       "      <td>2</td>\n",
       "      <td>NaN</td>\n",
       "      <td>NaN</td>\n",
       "      <td>NaN</td>\n",
       "    </tr>\n",
       "  </tbody>\n",
       "</table>\n",
       "<p>5 rows × 21 columns</p>\n",
       "</div>"
      ],
      "text/plain": [
       "   match_id  inning         batting_team                 bowling_team  over  \\\n",
       "0         1       1  Sunrisers Hyderabad  Royal Challengers Bangalore     1   \n",
       "1         1       1  Sunrisers Hyderabad  Royal Challengers Bangalore     1   \n",
       "2         1       1  Sunrisers Hyderabad  Royal Challengers Bangalore     1   \n",
       "3         1       1  Sunrisers Hyderabad  Royal Challengers Bangalore     1   \n",
       "4         1       1  Sunrisers Hyderabad  Royal Challengers Bangalore     1   \n",
       "\n",
       "   ball    batsman non_striker    bowler  is_super_over  ...  bye_runs  \\\n",
       "0     1  DA Warner    S Dhawan  TS Mills              0  ...         0   \n",
       "1     2  DA Warner    S Dhawan  TS Mills              0  ...         0   \n",
       "2     3  DA Warner    S Dhawan  TS Mills              0  ...         0   \n",
       "3     4  DA Warner    S Dhawan  TS Mills              0  ...         0   \n",
       "4     5  DA Warner    S Dhawan  TS Mills              0  ...         0   \n",
       "\n",
       "   legbye_runs  noball_runs  penalty_runs  batsman_runs  extra_runs  \\\n",
       "0            0            0             0             0           0   \n",
       "1            0            0             0             0           0   \n",
       "2            0            0             0             4           0   \n",
       "3            0            0             0             0           0   \n",
       "4            0            0             0             0           2   \n",
       "\n",
       "   total_runs  player_dismissed dismissal_kind fielder  \n",
       "0           0               NaN            NaN     NaN  \n",
       "1           0               NaN            NaN     NaN  \n",
       "2           4               NaN            NaN     NaN  \n",
       "3           0               NaN            NaN     NaN  \n",
       "4           2               NaN            NaN     NaN  \n",
       "\n",
       "[5 rows x 21 columns]"
      ]
     },
     "execution_count": 2,
     "metadata": {},
     "output_type": "execute_result"
    }
   ],
   "source": [
    "df = pd.read_csv(\"Match.csv\")\n",
    "df.head()"
   ]
  },
  {
   "cell_type": "code",
   "execution_count": 3,
   "id": "14e9300a",
   "metadata": {},
   "outputs": [
    {
     "data": {
      "text/plain": [
       "SK Raina         1576\n",
       "G Gambhir        1573\n",
       "RG Sharma        1418\n",
       "JH Kallis        1390\n",
       "SR Tendulkar     1388\n",
       "                 ... \n",
       "Harmeet Singh       1\n",
       "DP Vijaykumar       1\n",
       "U Kaul              1\n",
       "AD Nath             1\n",
       "CK Langeveldt       1\n",
       "Name: batsman, Length: 383, dtype: int64"
      ]
     },
     "execution_count": 3,
     "metadata": {},
     "output_type": "execute_result"
    }
   ],
   "source": [
    "df[\"batsman\"].value_counts()"
   ]
  },
  {
   "cell_type": "code",
   "execution_count": 4,
   "id": "9c9abbee",
   "metadata": {},
   "outputs": [
    {
     "data": {
      "text/html": [
       "<div>\n",
       "<style scoped>\n",
       "    .dataframe tbody tr th:only-of-type {\n",
       "        vertical-align: middle;\n",
       "    }\n",
       "\n",
       "    .dataframe tbody tr th {\n",
       "        vertical-align: top;\n",
       "    }\n",
       "\n",
       "    .dataframe thead th {\n",
       "        text-align: right;\n",
       "    }\n",
       "</style>\n",
       "<table border=\"1\" class=\"dataframe\">\n",
       "  <thead>\n",
       "    <tr style=\"text-align: right;\">\n",
       "      <th></th>\n",
       "      <th>match_id</th>\n",
       "      <th>inning</th>\n",
       "      <th>batting_team</th>\n",
       "      <th>bowling_team</th>\n",
       "      <th>over</th>\n",
       "      <th>ball</th>\n",
       "      <th>batsman</th>\n",
       "      <th>non_striker</th>\n",
       "      <th>bowler</th>\n",
       "      <th>is_super_over</th>\n",
       "      <th>...</th>\n",
       "      <th>bye_runs</th>\n",
       "      <th>legbye_runs</th>\n",
       "      <th>noball_runs</th>\n",
       "      <th>penalty_runs</th>\n",
       "      <th>batsman_runs</th>\n",
       "      <th>extra_runs</th>\n",
       "      <th>total_runs</th>\n",
       "      <th>player_dismissed</th>\n",
       "      <th>dismissal_kind</th>\n",
       "      <th>fielder</th>\n",
       "    </tr>\n",
       "  </thead>\n",
       "  <tbody>\n",
       "    <tr>\n",
       "      <th>0</th>\n",
       "      <td>1</td>\n",
       "      <td>1</td>\n",
       "      <td>Sunrisers_Hyderabad</td>\n",
       "      <td>Royal_Challengers_Bangalore</td>\n",
       "      <td>1</td>\n",
       "      <td>1</td>\n",
       "      <td>DA_Warner</td>\n",
       "      <td>S_Dhawan</td>\n",
       "      <td>TS_Mills</td>\n",
       "      <td>0</td>\n",
       "      <td>...</td>\n",
       "      <td>0</td>\n",
       "      <td>0</td>\n",
       "      <td>0</td>\n",
       "      <td>0</td>\n",
       "      <td>0</td>\n",
       "      <td>0</td>\n",
       "      <td>0</td>\n",
       "      <td>NaN</td>\n",
       "      <td>NaN</td>\n",
       "      <td>NaN</td>\n",
       "    </tr>\n",
       "    <tr>\n",
       "      <th>1</th>\n",
       "      <td>1</td>\n",
       "      <td>1</td>\n",
       "      <td>Sunrisers_Hyderabad</td>\n",
       "      <td>Royal_Challengers_Bangalore</td>\n",
       "      <td>1</td>\n",
       "      <td>2</td>\n",
       "      <td>DA_Warner</td>\n",
       "      <td>S_Dhawan</td>\n",
       "      <td>TS_Mills</td>\n",
       "      <td>0</td>\n",
       "      <td>...</td>\n",
       "      <td>0</td>\n",
       "      <td>0</td>\n",
       "      <td>0</td>\n",
       "      <td>0</td>\n",
       "      <td>0</td>\n",
       "      <td>0</td>\n",
       "      <td>0</td>\n",
       "      <td>NaN</td>\n",
       "      <td>NaN</td>\n",
       "      <td>NaN</td>\n",
       "    </tr>\n",
       "    <tr>\n",
       "      <th>2</th>\n",
       "      <td>1</td>\n",
       "      <td>1</td>\n",
       "      <td>Sunrisers_Hyderabad</td>\n",
       "      <td>Royal_Challengers_Bangalore</td>\n",
       "      <td>1</td>\n",
       "      <td>3</td>\n",
       "      <td>DA_Warner</td>\n",
       "      <td>S_Dhawan</td>\n",
       "      <td>TS_Mills</td>\n",
       "      <td>0</td>\n",
       "      <td>...</td>\n",
       "      <td>0</td>\n",
       "      <td>0</td>\n",
       "      <td>0</td>\n",
       "      <td>0</td>\n",
       "      <td>4</td>\n",
       "      <td>0</td>\n",
       "      <td>4</td>\n",
       "      <td>NaN</td>\n",
       "      <td>NaN</td>\n",
       "      <td>NaN</td>\n",
       "    </tr>\n",
       "    <tr>\n",
       "      <th>3</th>\n",
       "      <td>1</td>\n",
       "      <td>1</td>\n",
       "      <td>Sunrisers_Hyderabad</td>\n",
       "      <td>Royal_Challengers_Bangalore</td>\n",
       "      <td>1</td>\n",
       "      <td>4</td>\n",
       "      <td>DA_Warner</td>\n",
       "      <td>S_Dhawan</td>\n",
       "      <td>TS_Mills</td>\n",
       "      <td>0</td>\n",
       "      <td>...</td>\n",
       "      <td>0</td>\n",
       "      <td>0</td>\n",
       "      <td>0</td>\n",
       "      <td>0</td>\n",
       "      <td>0</td>\n",
       "      <td>0</td>\n",
       "      <td>0</td>\n",
       "      <td>NaN</td>\n",
       "      <td>NaN</td>\n",
       "      <td>NaN</td>\n",
       "    </tr>\n",
       "    <tr>\n",
       "      <th>4</th>\n",
       "      <td>1</td>\n",
       "      <td>1</td>\n",
       "      <td>Sunrisers_Hyderabad</td>\n",
       "      <td>Royal_Challengers_Bangalore</td>\n",
       "      <td>1</td>\n",
       "      <td>5</td>\n",
       "      <td>DA_Warner</td>\n",
       "      <td>S_Dhawan</td>\n",
       "      <td>TS_Mills</td>\n",
       "      <td>0</td>\n",
       "      <td>...</td>\n",
       "      <td>0</td>\n",
       "      <td>0</td>\n",
       "      <td>0</td>\n",
       "      <td>0</td>\n",
       "      <td>0</td>\n",
       "      <td>2</td>\n",
       "      <td>2</td>\n",
       "      <td>NaN</td>\n",
       "      <td>NaN</td>\n",
       "      <td>NaN</td>\n",
       "    </tr>\n",
       "  </tbody>\n",
       "</table>\n",
       "<p>5 rows × 21 columns</p>\n",
       "</div>"
      ],
      "text/plain": [
       "   match_id  inning         batting_team                 bowling_team  over  \\\n",
       "0         1       1  Sunrisers_Hyderabad  Royal_Challengers_Bangalore     1   \n",
       "1         1       1  Sunrisers_Hyderabad  Royal_Challengers_Bangalore     1   \n",
       "2         1       1  Sunrisers_Hyderabad  Royal_Challengers_Bangalore     1   \n",
       "3         1       1  Sunrisers_Hyderabad  Royal_Challengers_Bangalore     1   \n",
       "4         1       1  Sunrisers_Hyderabad  Royal_Challengers_Bangalore     1   \n",
       "\n",
       "   ball    batsman non_striker    bowler  is_super_over  ...  bye_runs  \\\n",
       "0     1  DA_Warner    S_Dhawan  TS_Mills              0  ...         0   \n",
       "1     2  DA_Warner    S_Dhawan  TS_Mills              0  ...         0   \n",
       "2     3  DA_Warner    S_Dhawan  TS_Mills              0  ...         0   \n",
       "3     4  DA_Warner    S_Dhawan  TS_Mills              0  ...         0   \n",
       "4     5  DA_Warner    S_Dhawan  TS_Mills              0  ...         0   \n",
       "\n",
       "   legbye_runs  noball_runs  penalty_runs  batsman_runs  extra_runs  \\\n",
       "0            0            0             0             0           0   \n",
       "1            0            0             0             0           0   \n",
       "2            0            0             0             4           0   \n",
       "3            0            0             0             0           0   \n",
       "4            0            0             0             0           2   \n",
       "\n",
       "   total_runs  player_dismissed dismissal_kind fielder  \n",
       "0           0               NaN            NaN     NaN  \n",
       "1           0               NaN            NaN     NaN  \n",
       "2           4               NaN            NaN     NaN  \n",
       "3           0               NaN            NaN     NaN  \n",
       "4           2               NaN            NaN     NaN  \n",
       "\n",
       "[5 rows x 21 columns]"
      ]
     },
     "execution_count": 4,
     "metadata": {},
     "output_type": "execute_result"
    }
   ],
   "source": [
    "df=df.replace(' ', '_', regex=True)\n",
    "df.head()"
   ]
  },
  {
   "cell_type": "code",
   "execution_count": 6,
   "id": "cc40cb88",
   "metadata": {},
   "outputs": [
    {
     "data": {
      "text/plain": [
       "match_id  inning  batting_team         bowling_team                 over  ball  batsman    non_striker      bowler           is_super_over  wide_runs  bye_runs  legbye_runs  noball_runs  penalty_runs  batsman_runs  extra_runs  total_runs  player_dismissed  dismissal_kind  fielder          \n",
       "1         1       Sunrisers_Hyderabad  Royal_Challengers_Bangalore  2     5     DA_Warner  S_Dhawan         A_Choudhary      0              0          0         0            0            0             0             0           0           DA_Warner         caught          Mandeep_Singh        1\n",
       "10        1       Sunrisers_Hyderabad  Mumbai_Indians               11    2     DA_Warner  S_Dhawan         Harbhajan_Singh  0              0          0         0            0            0             0             0           0           DA_Warner         caught          PA_Patel             1\n",
       "289       2       Delhi_Daredevils     Chennai_Super_Kings          10    5     DA_Warner  IK_Pathan        DJ_Bravo         0              0          0         0            0            0             0             0           0           DA_Warner         caught          M_Vijay              1\n",
       "274       1       Delhi_Daredevils     Kochi_Tuskers_Kerala         6     6     DA_Warner  NV_Ojha          S_Sreesanth      0              0          0         0            0            0             0             0           0           DA_Warner         caught          R_Vinay_Kumar        1\n",
       "259       1       Delhi_Daredevils     Kings_XI_Punjab              16    5     DA_Warner  Y_Venugopal_Rao  P_Kumar          0              0          0         0            0            0             0             0           0           DA_Warner         caught          RJ_Harris            1\n",
       "253       2       Delhi_Daredevils     Deccan_Chargers              15    2     DA_Warner  IK_Pathan        S_Dhawan         0              0          0         0            0            0             0             0           0           DA_Warner         caught          DB_Ravi_Teja         1\n",
       "250       2       Delhi_Daredevils     Pune_Warriors                7     6     DA_Warner  V_Sehwag         R_Sharma         0              0          0         0            0            0             1             0           1           DA_Warner         run_out         SB_Wagh              1\n",
       "241       1       Delhi_Daredevils     Rajasthan_Royals             18    4     DA_Warner  Y_Venugopal_Rao  A_Singh          0              0          0         0            0            0             0             0           0           DA_Warner         caught          AS_Raut              1\n",
       "229       2       Delhi_Daredevils     Deccan_Chargers              2     2     DA_Warner  V_Sehwag         MR_Marsh         0              0          0         0            0            0             0             0           0           DA_Warner         caught          RG_Sharma            1\n",
       "224       2       Delhi_Daredevils     Chennai_Super_Kings          1     3     DA_Warner  V_Sehwag         R_Ashwin         0              0          0         0            0            0             0             0           0           DA_Warner         caught          M_Vijay              1\n",
       "221       2       Delhi_Daredevils     Mumbai_Indians               4     4     DA_Warner  V_Sehwag         CRD_Fernando     0              0          0         0            0            0             0             0           0           DA_Warner         caught          AG_Murtaza           1\n",
       "218       1       Delhi_Daredevils     Kings_XI_Punjab              5     1     DA_Warner  PD_Collingwood   RR_Powar         0              0          0         0            0            0             0             0           0           DA_Warner         run_out         K_Goel               1\n",
       "209       1       Delhi_Daredevils     Royal_Challengers_Bangalore  10    4     DA_Warner  PD_Collingwood   A_Kumble         0              0          0         0            0            0             0             0           0           DA_Warner         caught          V_Kohli              1\n",
       "                                                                    6     4     DA_Warner  G_Gambhir        JH_Kallis        0              0          0         0            0            0             0             0           0           G_Gambhir         run_out         KP_Appanna           1\n",
       "197       1       Delhi_Daredevils     Royal_Challengers_Bangalore  4     3     DA_Warner  V_Sehwag         DW_Steyn         0              0          0         0            0            0             0             0           0           DA_Warner         caught          R_Vinay_Kumar        1\n",
       "185       1       Delhi_Daredevils     Chennai_Super_Kings          4     3     DA_Warner  V_Sehwag         L_Balaji         0              0          0         0            0            0             0             0           0           DA_Warner         caught          ML_Hayden            1\n",
       "172       1       Delhi_Daredevils     Deccan_Chargers              1     6     DA_Warner  V_Sehwag         RJ_Harris        0              0          0         0            0            0             0             0           0           DA_Warner         caught          HH_Gibbs             1\n",
       "170       2       Delhi_Daredevils     Mumbai_Indians               4     3     DA_Warner  G_Gambhir        DS_Kulkarni      0              0          0         0            0            0             0             0           0           DA_Warner         caught          Mohammad_Ashraful    1\n",
       "158       1       Delhi_Daredevils     Deccan_Chargers              2     3     DA_Warner  G_Gambhir        WPUJC_Vaas       0              0          0         0            0            0             0             0           0           DA_Warner         caught          Y_Venugopal_Rao      1\n",
       "154       2       Delhi_Daredevils     Kolkata_Knight_Riders        9     3     DA_Warner  AB_de_Villiers   I_Sharma         0              0          0         0            0            0             0             0           0           DA_Warner         caught          MN_van_Wyk           1\n",
       "150       2       Delhi_Daredevils     Mumbai_Indians               9     2     DA_Warner  G_Gambhir        JP_Duminy        0              0          0         0            0            0             0             0           0           DA_Warner         stumped         PR_Shah              1\n",
       "146       2       Delhi_Daredevils     Kolkata_Knight_Riders        7     6     DA_Warner  G_Gambhir        AB_Agarkar       0              0          0         0            0            0             0             0           0           DA_Warner         caught          MC_Henriques         1\n",
       "141       2       Delhi_Daredevils     Chennai_Super_Kings          16    5     DA_Warner  KD_Karthik       SB_Jakati        0              0          0         0            0            0             0             0           0           DA_Warner         stumped         MS_Dhoni             1\n",
       "43        2       Sunrisers_Hyderabad  Rising_Pune_Supergiant       13    2     DA_Warner  Yuvraj_Singh     BA_Stokes        0              0          0         0            0            0             0             0           0           DA_Warner         caught          SN_Thakur            1\n",
       "36        1       Sunrisers_Hyderabad  Kolkata_Knight_Riders        17    2     DA_Warner  KS_Williamson    CR_Woakes        0              0          0         0            0            0             0             0           0           DA_Warner         caught          G_Gambhir            1\n",
       "21        1       Sunrisers_Hyderabad  Delhi_Daredevils             2     5     DA_Warner  S_Dhawan         CH_Morris        0              0          0         0            0            0             0             0           0           DA_Warner         caught          A_Mishra             1\n",
       "14        2       Sunrisers_Hyderabad  Kolkata_Knight_Riders        10    5     DA_Warner  MC_Henriques     Kuldeep_Yadav    0              0          0         0            0            0             0             0           0           DA_Warner         caught          CR_Woakes            1\n",
       "293       2       Delhi_Daredevils     Kings_XI_Punjab              10    5     DA_Warner  Y_Venugopal_Rao  SJ_Srivastava    0              0          0         0            0            0             0             0           0           DA_Warner         caught          AC_Gilchrist         1\n",
       "dtype: int64"
      ]
     },
     "execution_count": 6,
     "metadata": {},
     "output_type": "execute_result"
    }
   ],
   "source": [
    "df[(df[\"batsman\"]==\"DA_Warner\")].value_counts()"
   ]
  },
  {
   "cell_type": "code",
   "execution_count": 7,
   "id": "fc0621c6",
   "metadata": {},
   "outputs": [
    {
     "name": "stdout",
     "output_type": "stream",
     "text": [
      "<class 'pandas.core.frame.DataFrame'>\n",
      "RangeIndex: 69761 entries, 0 to 69760\n",
      "Data columns (total 21 columns):\n",
      " #   Column            Non-Null Count  Dtype \n",
      "---  ------            --------------  ----- \n",
      " 0   match_id          69761 non-null  int64 \n",
      " 1   inning            69761 non-null  int64 \n",
      " 2   batting_team      69761 non-null  object\n",
      " 3   bowling_team      69761 non-null  object\n",
      " 4   over              69761 non-null  int64 \n",
      " 5   ball              69761 non-null  int64 \n",
      " 6   batsman           69761 non-null  object\n",
      " 7   non_striker       69761 non-null  object\n",
      " 8   bowler            69761 non-null  object\n",
      " 9   is_super_over     69761 non-null  int64 \n",
      " 10  wide_runs         69761 non-null  int64 \n",
      " 11  bye_runs          69761 non-null  int64 \n",
      " 12  legbye_runs       69761 non-null  int64 \n",
      " 13  noball_runs       69761 non-null  int64 \n",
      " 14  penalty_runs      69761 non-null  int64 \n",
      " 15  batsman_runs      69761 non-null  int64 \n",
      " 16  extra_runs        69761 non-null  int64 \n",
      " 17  total_runs        69761 non-null  int64 \n",
      " 18  player_dismissed  3516 non-null   object\n",
      " 19  dismissal_kind    3516 non-null   object\n",
      " 20  fielder           2529 non-null   object\n",
      "dtypes: int64(13), object(8)\n",
      "memory usage: 11.2+ MB\n"
     ]
    }
   ],
   "source": [
    "df.info()"
   ]
  },
  {
   "cell_type": "code",
   "execution_count": 8,
   "id": "165f5843",
   "metadata": {},
   "outputs": [
    {
     "data": {
      "text/plain": [
       "0           DA_Warner\n",
       "1           DA_Warner\n",
       "2           DA_Warner\n",
       "3           DA_Warner\n",
       "4           DA_Warner\n",
       "             ...     \n",
       "69756       JP_Duminy\n",
       "69757       JP_Duminy\n",
       "69758       JP_Duminy\n",
       "69759       JP_Duminy\n",
       "69760    DT_Christian\n",
       "Name: batsman, Length: 69761, dtype: object"
      ]
     },
     "execution_count": 8,
     "metadata": {},
     "output_type": "execute_result"
    }
   ],
   "source": [
    "df[\"batsman\"]"
   ]
  },
  {
   "cell_type": "code",
   "execution_count": 9,
   "id": "4ed78803",
   "metadata": {},
   "outputs": [
    {
     "data": {
      "text/plain": [
       "player_dismissed\n",
       "RG_Sharma           59\n",
       "SK_Raina            59\n",
       "AC_Gilchrist        57\n",
       "G_Gambhir           56\n",
       "Yuvraj_Singh        55\n",
       "                    ..\n",
       "JEC_Franklin         1\n",
       "RR_Raje              1\n",
       "B_Sumanth            1\n",
       "RN_ten_Doeschate     1\n",
       "R_Ninan              1\n",
       "Length: 354, dtype: int64"
      ]
     },
     "execution_count": 9,
     "metadata": {},
     "output_type": "execute_result"
    }
   ],
   "source": [
    "df[[\"player_dismissed\"]].value_counts()"
   ]
  },
  {
   "cell_type": "code",
   "execution_count": 10,
   "id": "80009044",
   "metadata": {},
   "outputs": [
    {
     "data": {
      "text/plain": [
       "fielder         \n",
       "RV_Uthappa          61\n",
       "KD_Karthik          57\n",
       "MS_Dhoni            55\n",
       "AC_Gilchrist        54\n",
       "KC_Sangakkara       46\n",
       "                    ..\n",
       "KH_Pandya            1\n",
       "KP_Appanna           1\n",
       "KP_Appanna_(sub)     1\n",
       "KS_Williamson        1\n",
       "AA_Bilakhia          1\n",
       "Length: 352, dtype: int64"
      ]
     },
     "execution_count": 10,
     "metadata": {},
     "output_type": "execute_result"
    }
   ],
   "source": [
    "df[[\"fielder\"]].value_counts()"
   ]
  },
  {
   "cell_type": "code",
   "execution_count": 11,
   "id": "06ad1ea0",
   "metadata": {},
   "outputs": [
    {
     "data": {
      "text/plain": [
       "dismissal_kind   \n",
       "caught               2029\n",
       "bowled                650\n",
       "run_out               379\n",
       "lbw                   223\n",
       "stumped               121\n",
       "caught_and_bowled     106\n",
       "hit_wicket              4\n",
       "retired_hurt            4\n",
       "dtype: int64"
      ]
     },
     "execution_count": 11,
     "metadata": {},
     "output_type": "execute_result"
    }
   ],
   "source": [
    "df[[\"dismissal_kind\"]].value_counts()"
   ]
  },
  {
   "cell_type": "code",
   "execution_count": 12,
   "id": "3a5652f3",
   "metadata": {},
   "outputs": [
    {
     "data": {
      "text/plain": [
       "0        DA_Warner\n",
       "1        DA_Warner\n",
       "2        DA_Warner\n",
       "3        DA_Warner\n",
       "4        DA_Warner\n",
       "5         S_Dhawan\n",
       "6         S_Dhawan\n",
       "7         S_Dhawan\n",
       "8        DA_Warner\n",
       "9        DA_Warner\n",
       "10       DA_Warner\n",
       "11       DA_Warner\n",
       "12    MC_Henriques\n",
       "13    MC_Henriques\n",
       "14        S_Dhawan\n",
       "15    MC_Henriques\n",
       "16    MC_Henriques\n",
       "17    MC_Henriques\n",
       "18        S_Dhawan\n",
       "19    MC_Henriques\n",
       "20    MC_Henriques\n",
       "21    MC_Henriques\n",
       "22        S_Dhawan\n",
       "23        S_Dhawan\n",
       "24    MC_Henriques\n",
       "25        S_Dhawan\n",
       "26        S_Dhawan\n",
       "27    MC_Henriques\n",
       "28        S_Dhawan\n",
       "29    MC_Henriques\n",
       "30    MC_Henriques\n",
       "31    MC_Henriques\n",
       "32        S_Dhawan\n",
       "33        S_Dhawan\n",
       "34        S_Dhawan\n",
       "35        S_Dhawan\n",
       "36        S_Dhawan\n",
       "37        S_Dhawan\n",
       "38        S_Dhawan\n",
       "39    MC_Henriques\n",
       "40    MC_Henriques\n",
       "41        S_Dhawan\n",
       "42    MC_Henriques\n",
       "43        S_Dhawan\n",
       "44        S_Dhawan\n",
       "45    MC_Henriques\n",
       "46        S_Dhawan\n",
       "47    MC_Henriques\n",
       "48    MC_Henriques\n",
       "49        S_Dhawan\n",
       "Name: batsman, dtype: object"
      ]
     },
     "execution_count": 12,
     "metadata": {},
     "output_type": "execute_result"
    }
   ],
   "source": [
    "df[\"batsman\"].head(50)"
   ]
  },
  {
   "cell_type": "code",
   "execution_count": 13,
   "id": "396e3295",
   "metadata": {},
   "outputs": [
    {
     "data": {
      "text/plain": [
       "batting_team\n",
       "Chennai_Super_Kings             8721\n",
       "Deccan_Chargers                 8479\n",
       "Delhi_Daredevils               10071\n",
       "Gujarat_Lions                   2311\n",
       "Kings_XI_Punjab                10135\n",
       "Kochi_Tuskers_Kerala            1626\n",
       "Kolkata_Knight_Riders           9292\n",
       "Mumbai_Indians                 10420\n",
       "Pune_Warriors                   1568\n",
       "Rajasthan_Royals                7575\n",
       "Rising_Pune_Supergiant          2370\n",
       "Royal_Challengers_Bangalore     9684\n",
       "Sunrisers_Hyderabad             2262\n",
       "Name: batsman_runs, dtype: int64"
      ]
     },
     "execution_count": 13,
     "metadata": {},
     "output_type": "execute_result"
    }
   ],
   "source": [
    "#Find Team wise runs scored.\n",
    "\n",
    "df.groupby([\"batting_team\"])[\"batsman_runs\"].sum()"
   ]
  },
  {
   "cell_type": "code",
   "execution_count": 14,
   "id": "72e36f8b",
   "metadata": {},
   "outputs": [
    {
     "data": {
      "text/plain": [
       "1428"
      ]
     },
     "execution_count": 14,
     "metadata": {},
     "output_type": "execute_result"
    }
   ],
   "source": [
    "# Find Total Runs of Virat Kohli.\n",
    "virat_kohli=df.groupby(\"batsman\")[\"batsman_runs\"].sum().sort_values()\n",
    "virat_kohli[\"V_Kohli\"]\n"
   ]
  },
  {
   "cell_type": "code",
   "execution_count": 16,
   "id": "15c495dd",
   "metadata": {},
   "outputs": [
    {
     "name": "stdout",
     "output_type": "stream",
     "text": [
      "My favourite player : MS_Dhoni\n",
      "total runs 1585\n"
     ]
    }
   ],
   "source": [
    "# Find Total Runs of Your Fav Player.\n",
    "\n",
    "name=input(\"My favourite player : \")\n",
    "fav_player=df.groupby(\"batsman\")[\"batsman_runs\"].sum().sort_values()\n",
    "print(\"total runs\",fav_player[name])"
   ]
  },
  {
   "cell_type": "code",
   "execution_count": 17,
   "id": "ffad1e6f",
   "metadata": {},
   "outputs": [
    {
     "data": {
      "text/plain": [
       "bowler\n",
       "AA_Chavan            4\n",
       "AA_Jhunjhunwala      3\n",
       "AA_Kazi              1\n",
       "AA_Noffke            6\n",
       "AB_Agarkar          54\n",
       "                    ..\n",
       "Y_Gnaneswara_Rao     0\n",
       "Y_Nagar              6\n",
       "Y_Venugopal_Rao      9\n",
       "Yuvraj_Singh        11\n",
       "Z_Khan              89\n",
       "Name: extra_runs, Length: 285, dtype: int64"
      ]
     },
     "execution_count": 17,
     "metadata": {},
     "output_type": "execute_result"
    }
   ],
   "source": [
    "# Extra Runs Given By All Bowlers in a League.\n",
    "\n",
    "\n",
    "df.groupby([\"bowler\"])[\"extra_runs\"].sum()\n"
   ]
  },
  {
   "cell_type": "code",
   "execution_count": 18,
   "id": "0f75d976",
   "metadata": {},
   "outputs": [
    {
     "data": {
      "text/plain": [
       "13"
      ]
     },
     "execution_count": 18,
     "metadata": {},
     "output_type": "execute_result"
    }
   ],
   "source": [
    "# Extra Runs Given By TS Mills.\n",
    "extra_runs=df.groupby(\"bowler\")[\"extra_runs\"].sum().sort_values()\n",
    "extra_runs[\"TS_Mills\"]"
   ]
  },
  {
   "cell_type": "code",
   "execution_count": 19,
   "id": "0561c25e",
   "metadata": {},
   "outputs": [
    {
     "data": {
      "text/html": [
       "<div>\n",
       "<style scoped>\n",
       "    .dataframe tbody tr th:only-of-type {\n",
       "        vertical-align: middle;\n",
       "    }\n",
       "\n",
       "    .dataframe tbody tr th {\n",
       "        vertical-align: top;\n",
       "    }\n",
       "\n",
       "    .dataframe thead th {\n",
       "        text-align: right;\n",
       "    }\n",
       "</style>\n",
       "<table border=\"1\" class=\"dataframe\">\n",
       "  <thead>\n",
       "    <tr style=\"text-align: right;\">\n",
       "      <th></th>\n",
       "      <th>batsman</th>\n",
       "      <th>dismissal_kind</th>\n",
       "    </tr>\n",
       "  </thead>\n",
       "  <tbody>\n",
       "    <tr>\n",
       "      <th>11</th>\n",
       "      <td>DA_Warner</td>\n",
       "      <td>caught</td>\n",
       "    </tr>\n",
       "    <tr>\n",
       "      <th>2728</th>\n",
       "      <td>MJ_McClenaghan</td>\n",
       "      <td>caught</td>\n",
       "    </tr>\n",
       "    <tr>\n",
       "      <th>3922</th>\n",
       "      <td>DT_Christian</td>\n",
       "      <td>caught</td>\n",
       "    </tr>\n",
       "    <tr>\n",
       "      <th>4691</th>\n",
       "      <td>DR_Smith</td>\n",
       "      <td>caught</td>\n",
       "    </tr>\n",
       "    <tr>\n",
       "      <th>6355</th>\n",
       "      <td>CR_Woakes</td>\n",
       "      <td>caught</td>\n",
       "    </tr>\n",
       "    <tr>\n",
       "      <th>9751</th>\n",
       "      <td>SE_Marsh</td>\n",
       "      <td>caught</td>\n",
       "    </tr>\n",
       "    <tr>\n",
       "      <th>69340</th>\n",
       "      <td>IK_Pathan</td>\n",
       "      <td>caught</td>\n",
       "    </tr>\n",
       "  </tbody>\n",
       "</table>\n",
       "</div>"
      ],
      "text/plain": [
       "              batsman dismissal_kind\n",
       "11          DA_Warner         caught\n",
       "2728   MJ_McClenaghan         caught\n",
       "3922     DT_Christian         caught\n",
       "4691         DR_Smith         caught\n",
       "6355        CR_Woakes         caught\n",
       "9751         SE_Marsh         caught\n",
       "69340       IK_Pathan         caught"
      ]
     },
     "execution_count": 19,
     "metadata": {},
     "output_type": "execute_result"
    }
   ],
   "source": [
    "# Catches Taken By Mandeep Singh.\n",
    "#df.head()\n",
    "#df[[\"dismissal_kind\"]==\"caught\"]\n",
    "mask=df[df['dismissal_kind']=='caught']\n",
    "mask[mask['fielder']=='Mandeep_Singh'][['batsman','dismissal_kind']] "
   ]
  },
  {
   "cell_type": "code",
   "execution_count": 22,
   "id": "3a0e8b84",
   "metadata": {},
   "outputs": [
    {
     "data": {
      "text/plain": [
       "1"
      ]
     },
     "execution_count": 22,
     "metadata": {},
     "output_type": "execute_result"
    }
   ],
   "source": [
    "# How Many Times DA Warner is dismissed by Mohammed Shami.\n",
    "\n",
    "msk1=df['player_dismissed']=='DA_Warner'\n",
    "mask2=df['bowler']=='Mohammed_Shami'\n",
    "len(df[msk1 & mask2][['batsman','bowler']])\n",
    "#df[msk1 & mask2][['batsman','bowler']] "
   ]
  },
  {
   "cell_type": "code",
   "execution_count": 23,
   "id": "00585f14",
   "metadata": {},
   "outputs": [
    {
     "name": "stdout",
     "output_type": "stream",
     "text": [
      "total wicket taken by YS_CHAHAL : 14\n"
     ]
    }
   ],
   "source": [
    "# Total Number of Wickets Taken by YS Chahal.\n",
    "\n",
    "wickets=df.groupby(\"bowler\")[\"player_dismissed\"].value_counts()\n",
    "print(\"total wicket taken by YS_CHAHAL :\",wickets[\"YS_Chahal\"].sum())"
   ]
  },
  {
   "cell_type": "code",
   "execution_count": 24,
   "id": "e4f98af9",
   "metadata": {},
   "outputs": [
    {
     "data": {
      "text/html": [
       "<div>\n",
       "<style scoped>\n",
       "    .dataframe tbody tr th:only-of-type {\n",
       "        vertical-align: middle;\n",
       "    }\n",
       "\n",
       "    .dataframe tbody tr th {\n",
       "        vertical-align: top;\n",
       "    }\n",
       "\n",
       "    .dataframe thead th {\n",
       "        text-align: right;\n",
       "    }\n",
       "</style>\n",
       "<table border=\"1\" class=\"dataframe\">\n",
       "  <thead>\n",
       "    <tr style=\"text-align: right;\">\n",
       "      <th></th>\n",
       "      <th>batsman</th>\n",
       "      <th>dismissal_kind</th>\n",
       "      <th>fielder</th>\n",
       "    </tr>\n",
       "  </thead>\n",
       "  <tbody>\n",
       "    <tr>\n",
       "      <th>3024</th>\n",
       "      <td>BB_McCullum</td>\n",
       "      <td>stumped</td>\n",
       "      <td>MS_Dhoni</td>\n",
       "    </tr>\n",
       "    <tr>\n",
       "      <th>4006</th>\n",
       "      <td>AB_de_Villiers</td>\n",
       "      <td>stumped</td>\n",
       "      <td>MS_Dhoni</td>\n",
       "    </tr>\n",
       "    <tr>\n",
       "      <th>11944</th>\n",
       "      <td>CJ_Anderson</td>\n",
       "      <td>stumped</td>\n",
       "      <td>MS_Dhoni</td>\n",
       "    </tr>\n",
       "    <tr>\n",
       "      <th>28296</th>\n",
       "      <td>RV_Uthappa</td>\n",
       "      <td>stumped</td>\n",
       "      <td>MS_Dhoni</td>\n",
       "    </tr>\n",
       "    <tr>\n",
       "      <th>32944</th>\n",
       "      <td>DA_Warner</td>\n",
       "      <td>stumped</td>\n",
       "      <td>MS_Dhoni</td>\n",
       "    </tr>\n",
       "    <tr>\n",
       "      <th>35415</th>\n",
       "      <td>GC_Smith</td>\n",
       "      <td>stumped</td>\n",
       "      <td>MS_Dhoni</td>\n",
       "    </tr>\n",
       "    <tr>\n",
       "      <th>35445</th>\n",
       "      <td>AS_Raut</td>\n",
       "      <td>stumped</td>\n",
       "      <td>MS_Dhoni</td>\n",
       "    </tr>\n",
       "    <tr>\n",
       "      <th>49905</th>\n",
       "      <td>AT_Rayudu</td>\n",
       "      <td>stumped</td>\n",
       "      <td>MS_Dhoni</td>\n",
       "    </tr>\n",
       "    <tr>\n",
       "      <th>51089</th>\n",
       "      <td>MD_Mishra</td>\n",
       "      <td>stumped</td>\n",
       "      <td>MS_Dhoni</td>\n",
       "    </tr>\n",
       "    <tr>\n",
       "      <th>52411</th>\n",
       "      <td>CH_Gayle</td>\n",
       "      <td>stumped</td>\n",
       "      <td>MS_Dhoni</td>\n",
       "    </tr>\n",
       "    <tr>\n",
       "      <th>52422</th>\n",
       "      <td>DJ_Hussey</td>\n",
       "      <td>stumped</td>\n",
       "      <td>MS_Dhoni</td>\n",
       "    </tr>\n",
       "    <tr>\n",
       "      <th>52495</th>\n",
       "      <td>WP_Saha</td>\n",
       "      <td>stumped</td>\n",
       "      <td>MS_Dhoni</td>\n",
       "    </tr>\n",
       "    <tr>\n",
       "      <th>54962</th>\n",
       "      <td>MD_Mishra</td>\n",
       "      <td>stumped</td>\n",
       "      <td>MS_Dhoni</td>\n",
       "    </tr>\n",
       "    <tr>\n",
       "      <th>55630</th>\n",
       "      <td>MS_Bisla</td>\n",
       "      <td>stumped</td>\n",
       "      <td>MS_Dhoni</td>\n",
       "    </tr>\n",
       "    <tr>\n",
       "      <th>55677</th>\n",
       "      <td>EJG_Morgan</td>\n",
       "      <td>stumped</td>\n",
       "      <td>MS_Dhoni</td>\n",
       "    </tr>\n",
       "    <tr>\n",
       "      <th>55692</th>\n",
       "      <td>MK_Tiwary</td>\n",
       "      <td>stumped</td>\n",
       "      <td>MS_Dhoni</td>\n",
       "    </tr>\n",
       "    <tr>\n",
       "      <th>60699</th>\n",
       "      <td>AT_Rayudu</td>\n",
       "      <td>stumped</td>\n",
       "      <td>MS_Dhoni</td>\n",
       "    </tr>\n",
       "  </tbody>\n",
       "</table>\n",
       "</div>"
      ],
      "text/plain": [
       "              batsman dismissal_kind   fielder\n",
       "3024      BB_McCullum        stumped  MS_Dhoni\n",
       "4006   AB_de_Villiers        stumped  MS_Dhoni\n",
       "11944     CJ_Anderson        stumped  MS_Dhoni\n",
       "28296      RV_Uthappa        stumped  MS_Dhoni\n",
       "32944       DA_Warner        stumped  MS_Dhoni\n",
       "35415        GC_Smith        stumped  MS_Dhoni\n",
       "35445         AS_Raut        stumped  MS_Dhoni\n",
       "49905       AT_Rayudu        stumped  MS_Dhoni\n",
       "51089       MD_Mishra        stumped  MS_Dhoni\n",
       "52411        CH_Gayle        stumped  MS_Dhoni\n",
       "52422       DJ_Hussey        stumped  MS_Dhoni\n",
       "52495         WP_Saha        stumped  MS_Dhoni\n",
       "54962       MD_Mishra        stumped  MS_Dhoni\n",
       "55630        MS_Bisla        stumped  MS_Dhoni\n",
       "55677      EJG_Morgan        stumped  MS_Dhoni\n",
       "55692       MK_Tiwary        stumped  MS_Dhoni\n",
       "60699       AT_Rayudu        stumped  MS_Dhoni"
      ]
     },
     "execution_count": 24,
     "metadata": {},
     "output_type": "execute_result"
    }
   ],
   "source": [
    "# Find Number of Stump Out done by MS Dhoni.\n",
    "stump=df['dismissal_kind']=='stumped'\n",
    "stump1=df['fielder']=='MS_Dhoni'\n",
    "df[stump & stump1][['batsman','dismissal_kind','fielder']]"
   ]
  },
  {
   "cell_type": "code",
   "execution_count": 25,
   "id": "7bf04bca",
   "metadata": {},
   "outputs": [
    {
     "data": {
      "text/plain": [
       "2"
      ]
     },
     "execution_count": 25,
     "metadata": {},
     "output_type": "execute_result"
    }
   ],
   "source": [
    "# How Many Times S Dhawan Got Out by lbw.\n",
    "lbw=df[\"dismissal_kind\"]==\"lbw\"\n",
    "lbw2=df[\"batsman\"]==\"S_Dhawan\"\n",
    "len(df[lbw & lbw2][[\"batsman\",\"dismissal_kind\"]])"
   ]
  },
  {
   "cell_type": "code",
   "execution_count": 26,
   "id": "19c62f64",
   "metadata": {},
   "outputs": [
    {
     "data": {
      "text/plain": [
       "62"
      ]
     },
     "execution_count": 26,
     "metadata": {},
     "output_type": "execute_result"
    }
   ],
   "source": [
    "# Total number sixes hit by MS Dhoni.\n",
    "b1=df['batsman_runs']==6\n",
    "b2=df['batsman']=='MS_Dhoni'\n",
    "len(df[b1 & b2][['batsman','batsman_runs']]) "
   ]
  },
  {
   "cell_type": "code",
   "execution_count": 27,
   "id": "93070408",
   "metadata": {},
   "outputs": [
    {
     "data": {
      "text/plain": [
       "8662"
      ]
     },
     "execution_count": 27,
     "metadata": {},
     "output_type": "execute_result"
    }
   ],
   "source": [
    "# Total numbers of balls faced by MI Players.\n",
    "balls_faced=df.groupby('batting_team')['ball'].count().sort_values(ascending=False)\n",
    "\n",
    "balls_faced[\"Mumbai_Indians\"]\n",
    "\n"
   ]
  },
  {
   "cell_type": "code",
   "execution_count": 28,
   "id": "93f7a9ce",
   "metadata": {},
   "outputs": [
    {
     "data": {
      "text/plain": [
       "7887"
      ]
     },
     "execution_count": 28,
     "metadata": {},
     "output_type": "execute_result"
    }
   ],
   "source": [
    "# Total numbers of balls faced by KKR Players.\n",
    "\n",
    "balls_faced[\"Kolkata_Knight_Riders\"]\n"
   ]
  },
  {
   "cell_type": "code",
   "execution_count": 29,
   "id": "660589c5",
   "metadata": {},
   "outputs": [
    {
     "data": {
      "text/plain": [
       "1578"
      ]
     },
     "execution_count": 29,
     "metadata": {},
     "output_type": "execute_result"
    }
   ],
   "source": [
    "# Find the total number of runs scored by Sachin Tendulkar.\n",
    "\n",
    "\n",
    "df[df['batsman']=='SR_Tendulkar']['batsman_runs'].sum()\n"
   ]
  },
  {
   "cell_type": "code",
   "execution_count": 30,
   "id": "6ad2fdf3",
   "metadata": {},
   "outputs": [
    {
     "data": {
      "text/plain": [
       "1388"
      ]
     },
     "execution_count": 30,
     "metadata": {},
     "output_type": "execute_result"
    }
   ],
   "source": [
    "# Find the total number of balls faced by Schin Tendulkar.\n",
    "\n",
    "\n",
    "df[df['batsman']=='SR_Tendulkar']['ball'].count()\n",
    "\n"
   ]
  },
  {
   "cell_type": "code",
   "execution_count": 31,
   "id": "6f253827",
   "metadata": {},
   "outputs": [
    {
     "data": {
      "text/plain": [
       "caught               23\n",
       "bowled                7\n",
       "lbw                   5\n",
       "run_out               2\n",
       "caught_and_bowled     1\n",
       "stumped               1\n",
       "Name: dismissal_kind, dtype: int64"
      ]
     },
     "execution_count": 31,
     "metadata": {},
     "output_type": "execute_result"
    }
   ],
   "source": [
    "# Find Sachin Tendulkar's dismissal types in IPL.\n",
    "df[df['player_dismissed']=='SR_Tendulkar']['dismissal_kind'].value_counts()\n"
   ]
  },
  {
   "cell_type": "code",
   "execution_count": 32,
   "id": "0b9a9eb2",
   "metadata": {},
   "outputs": [
    {
     "data": {
      "text/plain": [
       "PP_Chawla          2\n",
       "IK_Pathan          2\n",
       "R_Sharma           2\n",
       "R_Vinay_Kumar      2\n",
       "PJ_Sangwan         2\n",
       "RP_Singh           2\n",
       "A_Mishra           2\n",
       "Joginder_Sharma    1\n",
       "JH_Kallis          1\n",
       "T_Thushara         1\n",
       "DW_Steyn           1\n",
       "SB_Jakati          1\n",
       "DE_Bollinger       1\n",
       "AL_Menaria         1\n",
       "RJ_Harris          1\n",
       "Yuvraj_Singh       1\n",
       "P_Kumar            1\n",
       "L_Balaji           1\n",
       "R_Bhatia           1\n",
       "AD_Mascarenhas     1\n",
       "Shoaib_Akhtar      1\n",
       "SK_Raina           1\n",
       "SK_Warne           1\n",
       "D_du_Preez         1\n",
       "AB_Agarkar         1\n",
       "VS_Malik           1\n",
       "LR_Shukla          1\n",
       "PP_Ojha            1\n",
       "SK_Trivedi         1\n",
       "VY_Mahesh          1\n",
       "Shahid_Afridi      1\n",
       "Anand_Rajan        1\n",
       "Name: bowler, dtype: int64"
      ]
     },
     "execution_count": 32,
     "metadata": {},
     "output_type": "execute_result"
    }
   ],
   "source": [
    "# Find the bowlers who dismissed SR Tendulkar.\n",
    "\n",
    "SRT=df[df['player_dismissed']=='SR_Tendulkar']['bowler'].value_counts()\n",
    "SRT"
   ]
  },
  {
   "cell_type": "code",
   "execution_count": 33,
   "id": "5a7f07d7",
   "metadata": {},
   "outputs": [
    {
     "data": {
      "text/plain": [
       "caught               44\n",
       "run_out               6\n",
       "bowled                5\n",
       "caught_and_bowled     3\n",
       "lbw                   1\n",
       "Name: dismissal_kind, dtype: int64"
      ]
     },
     "execution_count": 33,
     "metadata": {},
     "output_type": "execute_result"
    }
   ],
   "source": [
    "# How many times was Suresh Raina dismissed.\n",
    "\n",
    "\n",
    "df[df['player_dismissed']=='SK_Raina']['dismissal_kind'].value_counts()\n",
    "\n"
   ]
  },
  {
   "cell_type": "code",
   "execution_count": 34,
   "id": "a178f28b",
   "metadata": {},
   "outputs": [
    {
     "data": {
      "text/plain": [
       "SK_Raina         83\n",
       "YK_Pathan        80\n",
       "Yuvraj_Singh     75\n",
       "CH_Gayle         72\n",
       "RG_Sharma        72\n",
       "                 ..\n",
       "RT_Ponting        1\n",
       "SD_Chitnis        1\n",
       "Sohail_Tanvir     1\n",
       "SP_Goswami        1\n",
       "WD_Parnell        1\n",
       "Name: batsman, Length: 234, dtype: int64"
      ]
     },
     "execution_count": 34,
     "metadata": {},
     "output_type": "execute_result"
    }
   ],
   "source": [
    "# Display player details who hit the maximum no of sixes in the current IPL tournament.\n",
    "sixes=df[df[\"batsman_runs\"]==6][\"batsman\"].value_counts()\n",
    "sixes"
   ]
  },
  {
   "cell_type": "code",
   "execution_count": null,
   "id": "92d7a65b",
   "metadata": {},
   "outputs": [],
   "source": []
  },
  {
   "cell_type": "code",
   "execution_count": 35,
   "id": "14382854",
   "metadata": {},
   "outputs": [
    {
     "data": {
      "text/plain": [
       "batting_team\n",
       "Deccan_Chargers                45\n",
       "Rajasthan_Royals               45\n",
       "Delhi_Daredevils               42\n",
       "Mumbai_Indians                 42\n",
       "Kolkata_Knight_Riders          39\n",
       "Kings_XI_Punjab                36\n",
       "Royal_Challengers_Bangalore    34\n",
       "Chennai_Super_Kings            32\n",
       "Kochi_Tuskers_Kerala           11\n",
       "Gujarat_Lions                  10\n",
       "Pune_Warriors                   9\n",
       "Sunrisers_Hyderabad             6\n",
       "Rising_Pune_Supergiant          1\n",
       "Name: noball_runs, dtype: int64"
      ]
     },
     "execution_count": 35,
     "metadata": {},
     "output_type": "execute_result"
    }
   ],
   "source": [
    "# What is the Overall No Balls Runs for each team in the dataset?\n",
    "no_balls=df.groupby('batting_team')['noball_runs'].sum().sort_values(ascending=False)\n",
    "no_balls"
   ]
  },
  {
   "cell_type": "code",
   "execution_count": 36,
   "id": "daa068b7",
   "metadata": {},
   "outputs": [
    {
     "data": {
      "text/plain": [
       "batsman\n",
       "SK_Raina        2159\n",
       "G_Gambhir       1907\n",
       "RG_Sharma       1794\n",
       "MS_Dhoni        1585\n",
       "SR_Tendulkar    1578\n",
       "                ... \n",
       "A_Mukund           0\n",
       "U_Kaul             0\n",
       "S_Kaul             0\n",
       "S_Ladda            0\n",
       "CJ_Jordan          0\n",
       "Name: batsman_runs, Length: 383, dtype: int64"
      ]
     },
     "execution_count": 36,
     "metadata": {},
     "output_type": "execute_result"
    }
   ],
   "source": [
    "# Which player scored the most runs in the dataset?\n",
    "\n",
    "most_runs=df.groupby('batsman')['batsman_runs'].sum().sort_values(ascending=False)\n",
    "most_runs"
   ]
  },
  {
   "cell_type": "code",
   "execution_count": 37,
   "id": "f2805151",
   "metadata": {},
   "outputs": [
    {
     "name": "stdout",
     "output_type": "stream",
     "text": [
      "2159\n"
     ]
    }
   ],
   "source": [
    "print(most_runs.max())"
   ]
  },
  {
   "cell_type": "markdown",
   "id": "4c68c3c9",
   "metadata": {},
   "source": [
    "*ALL THE BEST*"
   ]
  },
  {
   "cell_type": "code",
   "execution_count": null,
   "id": "a10f5162",
   "metadata": {},
   "outputs": [],
   "source": []
  }
 ],
 "metadata": {
  "kernelspec": {
   "display_name": "Python 3 (ipykernel)",
   "language": "python",
   "name": "python3"
  },
  "language_info": {
   "codemirror_mode": {
    "name": "ipython",
    "version": 3
   },
   "file_extension": ".py",
   "mimetype": "text/x-python",
   "name": "python",
   "nbconvert_exporter": "python",
   "pygments_lexer": "ipython3",
   "version": "3.9.12"
  }
 },
 "nbformat": 4,
 "nbformat_minor": 5
}
